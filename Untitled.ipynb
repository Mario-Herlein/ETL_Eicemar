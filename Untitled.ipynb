{
 "cells": [
  {
   "cell_type": "code",
   "execution_count": 13,
   "id": "e7483b08",
   "metadata": {},
   "outputs": [],
   "source": [
    "import pandas as pd\n",
    "import requests\n",
    "import json\n",
    "from tqdm import tqdm"
   ]
  },
  {
   "cell_type": "code",
   "execution_count": 24,
   "id": "66ff439b",
   "metadata": {},
   "outputs": [
    {
     "name": "stdout",
     "output_type": "stream",
     "text": [
      "Generando token\n",
      "Buscando Posiciones\n"
     ]
    }
   ],
   "source": [
    "\n",
    "from ETL.Extract import Connection , Search\n",
    "\n",
    "\n",
    "with open(\"./config.json\", \"r\") as f:\n",
    "    config= json.load(f)\n",
    "\n",
    "ENTORNO=\"PROD\"\n",
    "conexion = Connection(USER = config[ENTORNO]['user']\n",
    "                    , PASS = config[ENTORNO]['pass']\n",
    "                    , URLTOKEN = config[ENTORNO]['urlToken']\n",
    "                    , REFERER = config[ENTORNO]['referer'] )\n",
    "\n",
    "\n",
    "\n",
    "token=conexion.token\n",
    "start='2022-06-02'\n",
    "finish='2022-07-04'\n",
    "mmsi=\"701000516\"\n",
    "\n",
    "\n",
    "\n",
    "busqueda=Search.trackSearch(token,mmsi,start,finish) \n"
   ]
  },
  {
   "cell_type": "code",
   "execution_count": 25,
   "id": "212815b8",
   "metadata": {},
   "outputs": [],
   "source": [
    "positions=busqueda[\"positions\"]"
   ]
  },
  {
   "cell_type": "code",
   "execution_count": 50,
   "id": "4ffb13c5",
   "metadata": {},
   "outputs": [
    {
     "name": "stderr",
     "output_type": "stream",
     "text": [
      "100%|████████████████████████████████████████████████████████████████████████| 15000/15000 [00:00<00:00, 834067.69it/s]"
     ]
    },
    {
     "name": "stdout",
     "output_type": "stream",
     "text": [
      " El ObjectId 16550266308239420, no tiene coordenadas\n"
     ]
    },
    {
     "name": "stderr",
     "output_type": "stream",
     "text": [
      "\n"
     ]
    }
   ],
   "source": [
    "list_positions=[]\n",
    "position={}\n",
    "for pos in tqdm(positions):\n",
    "    position={\"FH\":pos[\"msgTime\"],\n",
    "               \"SOG\":pos['SpeedOverGroud'],\n",
    "               \"COG\":pos['CourseOverGround']}\n",
    "    try:\n",
    "         position.update({\"X\":pos[\"location\"][\"geo\"][\"coordinates\"][0],\n",
    "         \"Y\":pos[\"location\"][\"geo\"][\"coordinates\"][1]})\n",
    "            \n",
    "    except KeyError:\n",
    "        print( f\" El ObjectId {pos['objectId']}, no tiene coordenadas\")\n",
    "        continue\n",
    "              \n",
    "    list_positions.append(position)\n",
    "dfa=pd.DataFrame(list_positions)"
   ]
  },
  {
   "cell_type": "code",
   "execution_count": 49,
   "id": "0d81598a",
   "metadata": {
    "scrolled": true
   },
   "outputs": [
    {
     "data": {
      "text/html": [
       "<div>\n",
       "<style scoped>\n",
       "    .dataframe tbody tr th:only-of-type {\n",
       "        vertical-align: middle;\n",
       "    }\n",
       "\n",
       "    .dataframe tbody tr th {\n",
       "        vertical-align: top;\n",
       "    }\n",
       "\n",
       "    .dataframe thead th {\n",
       "        text-align: right;\n",
       "    }\n",
       "</style>\n",
       "<table border=\"1\" class=\"dataframe\">\n",
       "  <thead>\n",
       "    <tr style=\"text-align: right;\">\n",
       "      <th></th>\n",
       "      <th>FH</th>\n",
       "      <th>SOG</th>\n",
       "      <th>COG</th>\n",
       "      <th>X</th>\n",
       "      <th>Y</th>\n",
       "    </tr>\n",
       "  </thead>\n",
       "  <tbody>\n",
       "    <tr>\n",
       "      <th>6404</th>\n",
       "      <td>2022-06-12T09:34:28.000Z</td>\n",
       "      <td>8.5</td>\n",
       "      <td>200.4</td>\n",
       "      <td>-63.253292</td>\n",
       "      <td>-45.574965</td>\n",
       "    </tr>\n",
       "    <tr>\n",
       "      <th>6405</th>\n",
       "      <td>2022-06-12T09:36:28.000Z</td>\n",
       "      <td>102.3</td>\n",
       "      <td>360.0</td>\n",
       "      <td>NaN</td>\n",
       "      <td>NaN</td>\n",
       "    </tr>\n",
       "    <tr>\n",
       "      <th>6406</th>\n",
       "      <td>2022-06-12T09:37:46.000Z</td>\n",
       "      <td>8.1</td>\n",
       "      <td>177.7</td>\n",
       "      <td>-63.254847</td>\n",
       "      <td>-45.582788</td>\n",
       "    </tr>\n",
       "    <tr>\n",
       "      <th>6407</th>\n",
       "      <td>2022-06-12T09:37:49.000Z</td>\n",
       "      <td>8.1</td>\n",
       "      <td>177.7</td>\n",
       "      <td>-63.254847</td>\n",
       "      <td>-45.582788</td>\n",
       "    </tr>\n",
       "  </tbody>\n",
       "</table>\n",
       "</div>"
      ],
      "text/plain": [
       "                            FH    SOG    COG          X          Y\n",
       "6404  2022-06-12T09:34:28.000Z    8.5  200.4 -63.253292 -45.574965\n",
       "6405  2022-06-12T09:36:28.000Z  102.3  360.0        NaN        NaN\n",
       "6406  2022-06-12T09:37:46.000Z    8.1  177.7 -63.254847 -45.582788\n",
       "6407  2022-06-12T09:37:49.000Z    8.1  177.7 -63.254847 -45.582788"
      ]
     },
     "execution_count": 49,
     "metadata": {},
     "output_type": "execute_result"
    }
   ],
   "source": [
    "dfa[6404:6408]"
   ]
  },
  {
   "cell_type": "code",
   "execution_count": 51,
   "id": "e6480ffa",
   "metadata": {},
   "outputs": [
    {
     "data": {
      "text/html": [
       "<div>\n",
       "<style scoped>\n",
       "    .dataframe tbody tr th:only-of-type {\n",
       "        vertical-align: middle;\n",
       "    }\n",
       "\n",
       "    .dataframe tbody tr th {\n",
       "        vertical-align: top;\n",
       "    }\n",
       "\n",
       "    .dataframe thead th {\n",
       "        text-align: right;\n",
       "    }\n",
       "</style>\n",
       "<table border=\"1\" class=\"dataframe\">\n",
       "  <thead>\n",
       "    <tr style=\"text-align: right;\">\n",
       "      <th></th>\n",
       "      <th>FH</th>\n",
       "      <th>SOG</th>\n",
       "      <th>COG</th>\n",
       "      <th>X</th>\n",
       "      <th>Y</th>\n",
       "    </tr>\n",
       "  </thead>\n",
       "  <tbody>\n",
       "    <tr>\n",
       "      <th>6404</th>\n",
       "      <td>2022-06-12T09:34:28.000Z</td>\n",
       "      <td>8.5</td>\n",
       "      <td>200.4</td>\n",
       "      <td>-63.253292</td>\n",
       "      <td>-45.574965</td>\n",
       "    </tr>\n",
       "    <tr>\n",
       "      <th>6405</th>\n",
       "      <td>2022-06-12T09:37:46.000Z</td>\n",
       "      <td>8.1</td>\n",
       "      <td>177.7</td>\n",
       "      <td>-63.254847</td>\n",
       "      <td>-45.582788</td>\n",
       "    </tr>\n",
       "    <tr>\n",
       "      <th>6406</th>\n",
       "      <td>2022-06-12T09:37:49.000Z</td>\n",
       "      <td>8.1</td>\n",
       "      <td>177.7</td>\n",
       "      <td>-63.254847</td>\n",
       "      <td>-45.582788</td>\n",
       "    </tr>\n",
       "    <tr>\n",
       "      <th>6407</th>\n",
       "      <td>2022-06-12T09:38:57.000Z</td>\n",
       "      <td>7.5</td>\n",
       "      <td>177.7</td>\n",
       "      <td>-63.254940</td>\n",
       "      <td>-45.585217</td>\n",
       "    </tr>\n",
       "  </tbody>\n",
       "</table>\n",
       "</div>"
      ],
      "text/plain": [
       "                            FH  SOG    COG          X          Y\n",
       "6404  2022-06-12T09:34:28.000Z  8.5  200.4 -63.253292 -45.574965\n",
       "6405  2022-06-12T09:37:46.000Z  8.1  177.7 -63.254847 -45.582788\n",
       "6406  2022-06-12T09:37:49.000Z  8.1  177.7 -63.254847 -45.582788\n",
       "6407  2022-06-12T09:38:57.000Z  7.5  177.7 -63.254940 -45.585217"
      ]
     },
     "execution_count": 51,
     "metadata": {},
     "output_type": "execute_result"
    }
   ],
   "source": [
    "dfa[6404:6408]"
   ]
  }
 ],
 "metadata": {
  "kernelspec": {
   "display_name": "Ver1 venv",
   "language": "python",
   "name": "ver1"
  },
  "language_info": {
   "codemirror_mode": {
    "name": "ipython",
    "version": 3
   },
   "file_extension": ".py",
   "mimetype": "text/x-python",
   "name": "python",
   "nbconvert_exporter": "python",
   "pygments_lexer": "ipython3",
   "version": "3.9.10"
  }
 },
 "nbformat": 4,
 "nbformat_minor": 5
}
